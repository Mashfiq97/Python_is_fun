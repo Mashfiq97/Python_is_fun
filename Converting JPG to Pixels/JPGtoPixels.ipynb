{
 "cells": [
  {
   "cell_type": "code",
   "execution_count": null,
   "metadata": {},
   "outputs": [],
   "source": [
    "person_csv = os.path.join(\"/content/drive/MyDrive/Thesis/CSV\", '%s.csv' %(\"Surprise\"))\n",
    "emotion_dir = \"/content/drive/MyDrive/Thesis/Checking_Csv/\"\n",
    "emotion_label = 5\n",
    "\n",
    "with open(person_csv, 'w') as f:\n",
    "        f.write('emotion,pixels,Usage\\n')\n",
    "\n",
    "        \n",
    "        # iterate over images in the emotion folder\n",
    "        for image_name in os.listdir(emotion_dir):\n",
    "\n",
    "            #Single Image\n",
    "            path = emotion_dir + str(image_name)\n",
    "            image = cv2.imread(path, cv2.IMREAD_GRAYSCALE)\n",
    "\n",
    "            image= cv2.resize(image, (48,48), interpolation = cv2.INTER_AREA)\n",
    "            image = image.reshape(-1)\n",
    "            image_str = [str(pix) for pix in image] # convert image pixels to str\n",
    "            image_str = \" \".join(image_str)\n",
    "            f.write('%d,%s,%s' %(emotion_label, image_str, 'Surprise'))\n",
    "            f.write('\\n')\n",
    "        print(\"DONEEE\")  "
   ]
  }
 ],
 "metadata": {
  "kernelspec": {
   "display_name": "Python 3",
   "language": "python",
   "name": "python3"
  },
  "language_info": {
   "codemirror_mode": {
    "name": "ipython",
    "version": 3
   },
   "file_extension": ".py",
   "mimetype": "text/x-python",
   "name": "python",
   "nbconvert_exporter": "python",
   "pygments_lexer": "ipython3",
   "version": "3.8.5"
  }
 },
 "nbformat": 4,
 "nbformat_minor": 4
}
